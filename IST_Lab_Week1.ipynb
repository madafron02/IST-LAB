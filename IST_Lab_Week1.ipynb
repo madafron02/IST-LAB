{
 "cells": [
  {
   "cell_type": "markdown",
   "id": "bba72262-b637-47ed-9ba8-cd30fb1c1cf3",
   "metadata": {},
   "source": [
    "# Inclusive Speech Technology Lab - Week 1\n",
    "\n",
    "## Analyzing Speech\n",
    "\n",
    "The topic of this lab is understanding speech. Specifically, you will be working with speech data you create yourself, which you will use to analyze different aspects of speech. Throughout this lab, you will be using a software tool called [Praat](https://www.fon.hum.uva.nl/praat/) to record and work with speech signals. This lab is split into several parts:\n",
    "\n",
    "1. Understanding Speech\n",
    "2. Emotion in Speech\n",
    "3. Splicing Words\n",
    "4. Analyzing Formants\n",
    "5. Analyzing Pitch\n",
    "\n",
    "**Throughout this lab you will be asked to answer questions, and include plots to support your answers.** Sections where we expect you to add plots will have a <i style='color: #468fea; font-size: 15px;' class=\"fa  fa-bar-chart\" aria-hidden=\"true\"></i> symbol, and sections where we expect you to answer questions will have a <i style='color: #468fea; font-size: 15px;' class=\"fa fa-question-circle\" aria-hidden=\"true\"></i> symbol. Please answer all questions. In each step, you should carefully analyze and evaluate what you are doing and why. **There is no \"correct\" way of completing this lab!** It is, however, important that you can justify why you make certain choices and motivate your answers.\n",
    "\n",
    "**You do not need to submit this lab.** However, it is still very important that you understand and complete everything in this lab, since subsequent labs will build on the work you have done in this lab. Make sure you properly document everything you do! We also expect you to work on this lab alone.\n",
    "\n",
    "**When doing this lab, make sure you use headphones!**\n"
   ]
  },
  {
   "cell_type": "markdown",
   "id": "e6692842-7dfc-47c4-b6eb-49c9d335445a",
   "metadata": {},
   "source": [
    "### 1. Understanding Speech\n",
    "\n",
    "In this lab, you will be learning how to analyze speech signals. **We will be focusing on different levels of the speech signal: the whole signal, individual sounds, formants, and we will look at pitch.** To do so, **you will be using a software tool called [Praat](https://www.fon.hum.uva.nl/praat/).** This tool is frequently used in speech science and technology research to analyze speech. Before getting started on this lab, you should download Praat from its [website](https://www.fon.hum.uva.nl/praat/). We recommend you familiarize yourself with the tool before answering the questions below. Additionally, **you must complete this lab alone.**\n",
    "\n",
    "When you open Praat, you will see an `Objects` screen and a `Pictures` screen. For now, you can close the `Pictures` screen, since the `Objects` screen is the main place where you will interface with the tool. You can record an audio clip by selecting `New -> Record mono Sound...`. From there you can `Record` and, once you are done recording, `Save to list`. Once you have done so, you will see your audio recording listed in the `Objects` screen. From here, you can click `View & Edit`, which will enable you to see the plot of the waveform as well as the spectrogram, and edit the signal. Note, the standard setting of Praat will show you a Pitch contour (in blue) in the spectrogram. All analyses you need to do can be done in this window. For additional information, you can read the official user introduction [here](https://www.fon.hum.uva.nl/praat/manual/Intro.html), or you can choose from [another beginner's manual](https://www.fon.hum.uva.nl/praat/manualsByOthers.html) written by a third party. We encourage you to play around with the tool, to get an intuitive understanding of how it works. **During this lab, you will use Praat to view  the signal, splice the signal, view a signal's spectogram and pitch contour, and do a formant analysis.** We expect you to only work with mono sound."
   ]
  },
  {
   "cell_type": "markdown",
   "id": "b45d1fa2",
   "metadata": {},
   "source": []
  },
  {
   "cell_type": "markdown",
   "id": "bf73e7d8-a637-47d7-9477-4c46e5395f5f",
   "metadata": {},
   "source": [
    "### 2. Emotion in Speech\n",
    "\n",
    "Now that you have some familiarity with how Praat works, in your first task, you will analyze the effect of emotion on the articulation of speech. Emotion manifests itself throughout the speech signal. To do so, choose two words and record them in (a) a neutral voice, (b) an angry voice, and (c) a happy voice. **In the block below, add screenshots for the waveform and spectrogram plots for each word and emotion.** Clearly denote which word is articulated and which emotion corresponds to which plot.\n",
    "\n",
    "If you are having trouble understanding how the spectrograms work, you may want to refer to the Praat guide on viewing spectrograms, found [here](https://www.fon.hum.uva.nl/praat/manual/Intro_3_1__Viewing_a_spectrogram.html)."
   ]
  },
  {
   "cell_type": "markdown",
   "id": "a50a6185-0de1-479d-bbca-e5fa35574bd6",
   "metadata": {},
   "source": [
    "<i style='color: #468fea; font-size: 20px;' class=\"fa  fa-bar-chart\" aria-hidden=\"true\"></i> Add your waveform and spectrogram plots in the cell below."
   ]
  },
  {
   "cell_type": "markdown",
   "id": "ba3d8184-2845-4628-bdf1-7c5d8eb4fc4d",
   "metadata": {},
   "source": [
    "<div style=\"background-color:#e8f0fa; border-radius: 2px\">\n",
    "    Your graphs go in this cell\n",
    "</div>"
   ]
  },
  {
   "cell_type": "markdown",
   "id": "2131c00e-d3da-4789-ae15-e32bb7e6d98a",
   "metadata": {},
   "source": [
    "**Now take some time to answer the following questions about your plots:**\n",
    "\n",
    "<i style='color: #468fea; font-size: 20px;' class=\"fa fa-question-circle\" aria-hidden=\"true\"></i> Looking at the waveform plots, what differences do you observe between the articulation of the words in the different emotions? What information does the waveform give you about emotion? Note: pay attention to the x-axis and y-axis. Do you think you can distinguish emotion from the waveform plots?"
   ]
  },
  {
   "cell_type": "markdown",
   "id": "80b7a542-ba2d-4bfc-8127-e29f653c70fc",
   "metadata": {},
   "source": [
    "<div style=\"background-color:#e8f0fa; border-radius: 2px\">\n",
    "    Your answer goes in this cell\n",
    "</div>"
   ]
  },
  {
   "cell_type": "markdown",
   "id": "9a9dfdc9-87f9-4937-bc2b-1c201fb6624d",
   "metadata": {},
   "source": [
    "<i style='color: #468fea; font-size: 20px;' class=\"fa fa-question-circle\" aria-hidden=\"true\"></i> Now focus on the spectrogram plots, and answer the same questions. What differences do you observe between the articulation of the words in the different emotions? What information does the spectrogram give you about emotion? Again, pay attention to the x-axis and y-axis. Do you think you can distinguish emotion from the spectrogram plots?"
   ]
  },
  {
   "cell_type": "markdown",
   "id": "37e7be92-9ffb-43e2-8671-cdc88f623d92",
   "metadata": {},
   "source": [
    "<div style=\"background-color:#e8f0fa; border-radius: 2px\">\n",
    "    Your answer goes in this cell\n",
    "</div>"
   ]
  },
  {
   "cell_type": "markdown",
   "id": "03368d34-8a5e-40ec-8d0a-cfd626a6f9a9",
   "metadata": {},
   "source": [
    "### 3. Splicing Words\n",
    "\n",
    "In this exercise, you will investigate what sounds are. You will do so by splicing sounds to create new words. For this exercise, you will record four words, and will combine different sounds from two different words to create a new a word. **Your first task is to create the word `'blow'` from the words `'slow'` and `'boat'`.** To do so, you should record yourself saying the words `'slow'` and `'boat'`, and then create the word `'blow'` by taking the `/b/` from `boat` and splicing it together with the `'low'` from `'slow'`. To get the best result, make sure to cut the speech signal at a zero-crossing, i.e., the point of the signal where the signal crosses the x-axis.\n",
    "\n",
    "Note: If you are having trouble working with Praat, you can refer to this resource as an additional guide to using Praat: [Using Praat for Linguistic Research](https://wstyler.ucsd.edu/praat/). The 'Working with Praat Waveforms and Spectrograms' section may provide useful."
   ]
  },
  {
   "cell_type": "markdown",
   "id": "b5e9063c-f87c-4c1c-94d2-d23c28e04895",
   "metadata": {},
   "source": [
    "<i style='color: #468fea; font-size: 20px;' class=\"fa  fa-bar-chart\" aria-hidden=\"true\"></i> Paste your spectrograms for `'boat'`, `'slow'`, and the spliced-together `'blow'` below. Make sure you clearly label which plot belongs to which word."
   ]
  },
  {
   "cell_type": "markdown",
   "id": "f29a3b11-8ccb-46e7-8780-be2490f48c11",
   "metadata": {},
   "source": [
    "<div style=\"background-color:#e8f0fa; border-radius: 2px\">\n",
    "    Your graphs go in this cell\n",
    "</div>"
   ]
  },
  {
   "cell_type": "markdown",
   "id": "e7c789fa-6c1b-4f2a-a8ef-4aba1a26302b",
   "metadata": {},
   "source": [
    "<i style='color: #468fea; font-size: 20px;' class=\"fa fa-question-circle\" aria-hidden=\"true\"></i> When you listen to your spliced version of `'blow'`, does it sound correct and natural? That is, does it sound the same as if you were to speak it normally? Why or why not?"
   ]
  },
  {
   "cell_type": "markdown",
   "id": "0ef58f3d-c1f5-4957-aabb-75ddf562f8e6",
   "metadata": {},
   "source": [
    "<div style=\"background-color:#e8f0fa; border-radius: 2px\">\n",
    "    Your answer goes in this cell\n",
    "</div>"
   ]
  },
  {
   "cell_type": "markdown",
   "id": "a7ac10e4-953f-4ef0-a616-785cbe184ebb",
   "metadata": {},
   "source": [
    "Now the second set of words: **Record yourself speaking the words `'fork'` and `'bend'` and create the word `'fond'`.** Again, to get the best result, make sure to cut the speech signal at a zero-crossing, i.e., the point of the signal where the signal crosses the x-axis."
   ]
  },
  {
   "cell_type": "markdown",
   "id": "43dfe5d1-c757-4ffe-8f6e-d3478a8a6e38",
   "metadata": {},
   "source": [
    "<i style='color: #468fea; font-size: 20px;' class=\"fa  fa-bar-chart\" aria-hidden=\"true\"></i> Paste your spectrograms for `'fork'`, `'bend'`, and the spliced-together `'fond'` below. Make sure you clearly label which plot belongs to which word."
   ]
  },
  {
   "attachments": {},
   "cell_type": "markdown",
   "id": "05654569-c9f6-4cf7-8f84-ad8dbb8883b8",
   "metadata": {},
   "source": [
    "<div style=\"background-color:#e8f0fa; border-radius: 2px\">\n",
    "    Your graphs go in this cell\n",
    "</div>"
   ]
  },
  {
   "cell_type": "markdown",
   "id": "17295e9b-98ed-4b8b-8457-699bd830af22",
   "metadata": {},
   "source": [
    "<i style='color: #468fea; font-size: 20px;' class=\"fa fa-question-circle\" aria-hidden=\"true\"></i> When you listen to your spliced version of <span style=\"color:blue\">`'fond'`</span>, does it sound correct and natural? That is, does it sound the same as if you were to speak it normally? Why or why not?"
   ]
  },
  {
   "cell_type": "markdown",
   "id": "33ff0647-d903-47dd-b83d-7d8b1de4352e",
   "metadata": {},
   "source": [
    "<div style=\"background-color:#e8f0fa; border-radius: 2px\">\n",
    "    Your answer goes in this cell\n",
    "</div>"
   ]
  },
  {
   "cell_type": "markdown",
   "id": "76e5968a-1655-4857-a787-d33c0f85dcc5",
   "metadata": {},
   "source": [
    "### 4. Analyzing Formants\n",
    "\n",
    "In this exercise you will be looking at even smaller acoustic information, formants! As stated in the lectures, formants result from acoustic resonances in the vocal tract. Formants are dependent on the size, shape, and position of the speech organs during articulation. In this part of the lab, you will be analyze the formants of two vowels to learn how formants can be used to identify the particular vowel.\n",
    "\n",
    "To do so, **we will be using the vowels /o/ and /e/. For each vowel, come up with three different words that contain that vowel.** For example, for /o/ you could choose `'hotel'` to be one of your words. Record your voice saying the six different words (three per vowel), then edit the waveforms such that you isolate the chosen vowel from the word, for each word. Thus, if you were to record `'hotel'`, you would isolate the /o/ in the waveform. As a result, you should have three spoken instances of an /o/, and three spoken instances of an /e/. Choose your words carefully and **remember that letters are not the same as sounds!** For example, the /o/ in the word `'hotel'` is not the same as in the word `'though'`."
   ]
  },
  {
   "cell_type": "markdown",
   "id": "5cd77061-10f4-4025-9672-1d20e04ac239",
   "metadata": {},
   "source": [
    "<i style='color: #468fea; font-size: 20px;' class=\"fa  fa-bar-chart\" aria-hidden=\"true\"></i> Paste the spectrograms for each of the six vowels below. Make sure you clearly label your spectrograms with the vowel and the word it came from, and make sure to **show the formants in your plots**."
   ]
  },
  {
   "cell_type": "markdown",
   "id": "d176becd-646f-4485-b6aa-8233f68fc036",
   "metadata": {},
   "source": [
    "<div style=\"background-color:#e8f0fa; border-radius: 2px\">\n",
    "    Your graphs go in this cell\n",
    "</div>"
   ]
  },
  {
   "cell_type": "markdown",
   "id": "50d2cf8e-a43b-4aee-9c00-dcfc0494c192",
   "metadata": {},
   "source": [
    "<i style='color: #468fea; font-size: 20px;' class=\"fa fa-question-circle\" aria-hidden=\"true\"></i> Using the correct function in Praat, determine the first and second formant for each of the three /o/ vowels, and report these below. Then answer the following questions: What is the range of the formant values for /o/ for F1 and F2 separately? Why do you think you get these results?"
   ]
  },
  {
   "cell_type": "markdown",
   "id": "8c9d4e7b-1505-49d5-ab99-2e5bbef2116f",
   "metadata": {},
   "source": [
    "<div style=\"background-color:#e8f0fa; border-radius: 2px\">\n",
    "    Your answer goes in this cell\n",
    "</div>"
   ]
  },
  {
   "cell_type": "markdown",
   "id": "0a2244ca-84b3-4461-a028-ab248173351d",
   "metadata": {},
   "source": [
    "<i style='color: #468fea; font-size: 20px;' class=\"fa fa-question-circle\" aria-hidden=\"true\"></i> Using the correct function in Praat, determine the first and second formant for each of the three /e/ vowels, and report these below. Then answer the following questions:  What is the range of the formant values for /e/ for F1 and F2 separately? Why do you think you get these results?"
   ]
  },
  {
   "cell_type": "markdown",
   "id": "c9e868c3-5eab-44a2-a39c-87a4effa730b",
   "metadata": {},
   "source": [
    "<div style=\"background-color:#e8f0fa; border-radius: 2px\">\n",
    "    Your answer goes in this cell\n",
    "</div>"
   ]
  },
  {
   "cell_type": "markdown",
   "id": "8fc5cdda-a396-40a1-9444-4404423191ac",
   "metadata": {},
   "source": [
    "<i style='color: #468fea; font-size: 20px;' class=\"fa fa-question-circle\" aria-hidden=\"true\"></i> Compute the average value of the first formant and the second formant of your /o/ vowels, and those for your /e/ vowels, and report them below clearly indicating which one is which, and which vowel they correspond to. Compare the formants of the vowels to each other. How do the averages and the ranges compare to each other? How does this link to the perception of vowels?"
   ]
  },
  {
   "cell_type": "markdown",
   "id": "28a19dc3-1b58-4d82-9f49-170ad1f133ae",
   "metadata": {},
   "source": [
    "<div style=\"background-color:#e8f0fa; border-radius: 2px\">\n",
    "    Your answer goes in this cell\n",
    "</div>"
   ]
  },
  {
   "cell_type": "markdown",
   "id": "2b95ed5a-4f02-4596-ac4d-0005c4ca2de7",
   "metadata": {},
   "source": [
    "### 5. Analyzing Pitch\n",
    "\n",
    "In this final exercise on understanding speech, you will be looking at the pitch of a speech signal. Recall from the lectures that pitch is the perceived high- or low-ness of speech, which is related to the number of times per second that the vocal cords vibrate.\n",
    "\n",
    "To analyze pitch, **record yourself saying the word `separate` in a neutral tone and once as a question, and view the waveforms and spectogram plots. Make sure you are showing the pitch analysis in your spectogram!** The pitch should appear as a blue line on the spectrogram."
   ]
  },
  {
   "cell_type": "markdown",
   "id": "a9b4879b-7451-4c7f-b476-f1c97d0a59c3",
   "metadata": {},
   "source": [
    "<i style='color: #468fea; font-size: 20px;' class=\"fa  fa-bar-chart\" aria-hidden=\"true\"></i> Paste the spectrogram with the pitch contours for your recording of the word `separate` below."
   ]
  },
  {
   "cell_type": "markdown",
   "id": "435db73f-e7a4-4a8f-b3e3-25992454b19d",
   "metadata": {},
   "source": [
    "<div style=\"background-color:#e8f0fa; border-radius: 2px\">\n",
    "    Your graphs go in this cell\n",
    "</div>"
   ]
  },
  {
   "cell_type": "markdown",
   "id": "4c1e1355-4eed-4872-b8da-10b2564eac6a",
   "metadata": {},
   "source": [
    "<i style='color: #468fea; font-size: 20px;' class=\"fa fa-question-circle\" aria-hidden=\"true\"></i>Explain how the pitch changes throughout your articulation of the word `separate`, when stated neutrally and as a question. **Additionally**, state how pitch changes for the three emotions in the first exercise, and why. Your explanation should include an explanation of the absence of pitch in some places."
   ]
  },
  {
   "cell_type": "markdown",
   "id": "b0d77d79-d0d2-4757-bac0-10d9330de575",
   "metadata": {},
   "source": [
    "<div style=\"background-color:#e8f0fa; border-radius: 2px\">\n",
    "    Your answer goes in this cell\n",
    "</div>"
   ]
  }
 ],
 "metadata": {
  "kernelspec": {
   "display_name": "Python 3 (ipykernel)",
   "language": "python",
   "name": "python3"
  },
  "language_info": {
   "codemirror_mode": {
    "name": "ipython",
    "version": 3
   },
   "file_extension": ".py",
   "mimetype": "text/x-python",
   "name": "python",
   "nbconvert_exporter": "python",
   "pygments_lexer": "ipython3",
   "version": "3.10.0"
  }
 },
 "nbformat": 4,
 "nbformat_minor": 5
}
